{
 "cells": [
  {
   "cell_type": "code",
   "execution_count": 1,
   "metadata": {},
   "outputs": [],
   "source": [
    "import pandas as pd"
   ]
  },
  {
   "cell_type": "code",
   "execution_count": 76,
   "metadata": {},
   "outputs": [],
   "source": [
    "df=pd.read_json('bbox_labels_600_hierarchy.json')"
   ]
  },
  {
   "cell_type": "code",
   "execution_count": 77,
   "metadata": {},
   "outputs": [],
   "source": [
    "df1=pd.read_csv('oidv6-class-descriptions.csv')"
   ]
  },
  {
   "cell_type": "code",
   "execution_count": 78,
   "metadata": {},
   "outputs": [
    {
     "name": "stdout",
     "output_type": "stream",
     "text": [
      "<class 'pandas.core.frame.DataFrame'>\n",
      "RangeIndex: 19994 entries, 0 to 19993\n",
      "Data columns (total 2 columns):\n",
      " #   Column       Non-Null Count  Dtype \n",
      "---  ------       --------------  ----- \n",
      " 0   LabelName    19994 non-null  object\n",
      " 1   DisplayName  19994 non-null  object\n",
      "dtypes: object(2)\n",
      "memory usage: 312.5+ KB\n"
     ]
    }
   ],
   "source": [
    "df1.info()"
   ]
  },
  {
   "cell_type": "code",
   "execution_count": 88,
   "metadata": {
    "scrolled": false
   },
   "outputs": [
    {
     "data": {
      "text/plain": [
       "['Doll', 'Balloon', 'Dice', 'Flying disc', 'Kite', 'Teddy bear']"
      ]
     },
     "execution_count": 88,
     "metadata": {},
     "output_type": "execute_result"
    }
   ],
   "source": [
    "[df1.loc[df1['LabelName'] == i, 'DisplayName'].iloc[0] for i in [i['LabelName'] for i in df['Subcategory'][3]['Subcategory']]]"
   ]
  },
  {
   "cell_type": "code",
   "execution_count": 96,
   "metadata": {},
   "outputs": [],
   "source": [
    "dic={}\n",
    "for i in df['Subcategory']:\n",
    "    if len(i)==1:\n",
    "        dic[df1.loc[df1['LabelName'] == i['LabelName'], 'DisplayName'].iloc[0]]='None'\n",
    "    elif len(i)==2:\n",
    "        dic[df1.loc[df1['LabelName'] == i['LabelName'], 'DisplayName'].iloc[0]]=[df1.loc[df1['LabelName'] == i, 'DisplayName'].iloc[0] for i in[i['LabelName'] for i in i['Subcategory']]]"
   ]
  },
  {
   "cell_type": "code",
   "execution_count": 97,
   "metadata": {},
   "outputs": [
    {
     "data": {
      "text/plain": [
       "{'Coin': 'None',\n",
       " 'Flag': 'None',\n",
       " 'Light bulb': 'None',\n",
       " 'Toy': ['Doll', 'Balloon', 'Dice', 'Flying disc', 'Kite', 'Teddy bear'],\n",
       " 'Home appliance': ['Washing machine',\n",
       "  'Toaster',\n",
       "  'Oven',\n",
       "  'Blender',\n",
       "  'Gas stove',\n",
       "  'Mechanical fan',\n",
       "  'Heater',\n",
       "  'Kettle',\n",
       "  'Hair dryer',\n",
       "  'Refrigerator',\n",
       "  'Wood-burning stove',\n",
       "  'Humidifier',\n",
       "  'Mixer',\n",
       "  'Coffeemaker',\n",
       "  'Microwave oven',\n",
       "  'Dishwasher',\n",
       "  'Sewing machine',\n",
       "  'Hand dryer',\n",
       "  'Ceiling fan'],\n",
       " 'Plumbing fixture': ['Sink', 'Bidet', 'Shower', 'Tap', 'Bathtub', 'Toilet'],\n",
       " 'Office supplies': ['Scissors',\n",
       "  'Poster',\n",
       "  'Calculator',\n",
       "  'Box',\n",
       "  'Stapler',\n",
       "  'Whiteboard',\n",
       "  'Pencil sharpener',\n",
       "  'Eraser',\n",
       "  'Fax',\n",
       "  'Adhesive tape',\n",
       "  'Ring binder',\n",
       "  'Pencil case',\n",
       "  'Plastic bag',\n",
       "  'Paper cutter',\n",
       "  'Toilet paper',\n",
       "  'Envelope',\n",
       "  'Pen'],\n",
       " 'Paper towel': 'None',\n",
       " 'Pillow': 'None',\n",
       " 'Kitchenware': ['Kitchen utensil',\n",
       "  'Tableware',\n",
       "  'Frying pan',\n",
       "  'Wok',\n",
       "  'Spice rack',\n",
       "  'Kitchen appliance'],\n",
       " 'Fireplace': 'None',\n",
       " 'Countertop': 'None',\n",
       " 'Book': 'None',\n",
       " 'Furniture': ['Chair',\n",
       "  'Cabinetry',\n",
       "  'Desk',\n",
       "  'Wine rack',\n",
       "  'Couch',\n",
       "  'Wardrobe',\n",
       "  'Nightstand',\n",
       "  'Bookcase',\n",
       "  'Bed',\n",
       "  'Filing cabinet',\n",
       "  'Table',\n",
       "  'Chest of drawers',\n",
       "  'Cupboard',\n",
       "  'Bench',\n",
       "  'Drawer',\n",
       "  'Stool',\n",
       "  'Shelf',\n",
       "  'Wall clock',\n",
       "  'Bathroom cabinet',\n",
       "  'Closet'],\n",
       " 'Dog bed': 'None',\n",
       " 'Cat furniture': 'None',\n",
       " 'Lantern': 'None',\n",
       " 'Clock': ['Alarm clock', 'Digital clock', 'Wall clock'],\n",
       " 'Vase': 'None',\n",
       " 'Window blind': 'None',\n",
       " 'Curtain': 'None',\n",
       " 'Mirror': 'None',\n",
       " 'Sculpture': ['Snowman', 'Bust', 'Bronze sculpture'],\n",
       " 'Picture frame': 'None',\n",
       " 'Candle': 'None',\n",
       " 'Lamp': 'None',\n",
       " 'Bathroom accessory': ['Towel',\n",
       "  'Toilet paper',\n",
       "  'Soap dispenser',\n",
       "  'Facial tissue holder'],\n",
       " 'Beehive': 'None',\n",
       " 'Tent': 'None',\n",
       " 'Parking meter': 'None',\n",
       " 'Traffic light': 'None',\n",
       " 'Billboard': 'None',\n",
       " 'Traffic sign': ['Stop sign'],\n",
       " 'Fire hydrant': 'None',\n",
       " 'Fountain': 'None',\n",
       " 'Street light': 'None',\n",
       " 'Jacuzzi': 'None',\n",
       " 'Building': ['Tree house',\n",
       "  'Lighthouse',\n",
       "  'Skyscraper',\n",
       "  'Castle',\n",
       "  'Tower',\n",
       "  'House',\n",
       "  'Office building',\n",
       "  'Convenience store'],\n",
       " 'Swimming pool': 'None',\n",
       " 'Person': ['Man', 'Woman', 'Boy', 'Girl'],\n",
       " 'Food': ['Fast food',\n",
       "  'Waffle',\n",
       "  'Pancake',\n",
       "  'Burrito',\n",
       "  'Snack',\n",
       "  'Dessert',\n",
       "  'Guacamole',\n",
       "  'Fruit',\n",
       "  'Egg (Food)',\n",
       "  'Baked goods',\n",
       "  'Mushroom',\n",
       "  'Pasta',\n",
       "  'Pizza',\n",
       "  'Seafood',\n",
       "  'Taco',\n",
       "  'Cooking spray',\n",
       "  'Vegetable',\n",
       "  'Honeycomb',\n",
       "  'Sandwich',\n",
       "  'Dairy Product',\n",
       "  'Sushi'],\n",
       " 'Plant': ['Houseplant', 'Tree', 'Flower'],\n",
       " 'Vehicle': ['Land vehicle', 'Watercraft', 'Aircraft'],\n",
       " 'Clothing': ['Shorts',\n",
       "  'Dress',\n",
       "  'Swimwear',\n",
       "  'Brassiere',\n",
       "  'Tiara',\n",
       "  'Shirt',\n",
       "  'Coat',\n",
       "  'Suit',\n",
       "  'Hat',\n",
       "  'Scarf',\n",
       "  'Skirt',\n",
       "  'Jacket',\n",
       "  'Fashion accessory',\n",
       "  'Swim cap',\n",
       "  'Trousers',\n",
       "  'Footwear',\n",
       "  'Sports uniform',\n",
       "  'Luggage and bags',\n",
       "  'Helmet'],\n",
       " 'Animal': ['Bird', 'Invertebrate', 'Mammal', 'Reptile', 'Fish', 'Shellfish'],\n",
       " 'Cosmetics': ['Face powder', 'Hair spray', 'Lipstick', 'Perfume'],\n",
       " 'Personal care': ['Toothbrush',\n",
       "  'Sunglasses',\n",
       "  'Goggles',\n",
       "  'Crutch',\n",
       "  'Cream',\n",
       "  'Diaper',\n",
       "  'Glasses',\n",
       "  'Wheelchair'],\n",
       " 'Medical equipment': ['Syringe', 'Stretcher', 'Stethoscope', 'Band-aid'],\n",
       " 'Musical instrument': ['Organ (Musical Instrument)',\n",
       "  'Banjo',\n",
       "  'Cello',\n",
       "  'Drum',\n",
       "  'French horn',\n",
       "  'Guitar',\n",
       "  'Harp',\n",
       "  'Harpsichord',\n",
       "  'Harmonica',\n",
       "  'Musical keyboard',\n",
       "  'Oboe',\n",
       "  'Piano',\n",
       "  'Saxophone',\n",
       "  'Trombone',\n",
       "  'Trumpet',\n",
       "  'Violin',\n",
       "  'Chime',\n",
       "  'Flute',\n",
       "  'Accordion',\n",
       "  'Maracas'],\n",
       " 'Sports equipment': ['Paddle',\n",
       "  'Ball',\n",
       "  'Bicycle',\n",
       "  'Surfboard',\n",
       "  'Bow and arrow',\n",
       "  'Hiking equipment',\n",
       "  'Roller skates',\n",
       "  'Flying disc',\n",
       "  'Baseball bat',\n",
       "  'Baseball glove',\n",
       "  'Punching bag',\n",
       "  'Golf ball',\n",
       "  'Personal flotation device',\n",
       "  'Scoreboard',\n",
       "  'Snowboard',\n",
       "  'Skateboard',\n",
       "  'Ski',\n",
       "  'Bowling equipment',\n",
       "  'Dumbbell',\n",
       "  'Stationary bicycle',\n",
       "  'Treadmill',\n",
       "  'Training bench',\n",
       "  'Indoor rower',\n",
       "  'Horizontal bar',\n",
       "  'Parachute',\n",
       "  'Racket',\n",
       "  'Balance beam',\n",
       "  'Helmet',\n",
       "  'Billiard table'],\n",
       " 'Tool': ['Container',\n",
       "  'Ladder',\n",
       "  'Toothbrush',\n",
       "  'Screwdriver',\n",
       "  'Drill (Tool)',\n",
       "  'Chainsaw',\n",
       "  'Wrench',\n",
       "  'Flashlight',\n",
       "  'Scissors',\n",
       "  'Ratchet (Device)',\n",
       "  'Kitchen utensil',\n",
       "  'Hammer',\n",
       "  'Scale',\n",
       "  'Snowplow',\n",
       "  'Nail (Construction)',\n",
       "  'Tripod',\n",
       "  'Torch',\n",
       "  'Chisel',\n",
       "  'Axe',\n",
       "  'Camera',\n",
       "  'Grinder',\n",
       "  'Ruler',\n",
       "  'Binoculars'],\n",
       " 'Weapon': ['Bow and arrow',\n",
       "  'Cannon',\n",
       "  'Dagger',\n",
       "  'Knife',\n",
       "  'Rifle',\n",
       "  'Shotgun',\n",
       "  'Tank',\n",
       "  'Axe',\n",
       "  'Handgun',\n",
       "  'Sword',\n",
       "  'Missile',\n",
       "  'Bomb'],\n",
       " 'Cassette deck': 'None',\n",
       " 'Headphones': 'None',\n",
       " 'Laptop': 'None',\n",
       " 'Computer keyboard': 'None',\n",
       " 'Printer': 'None',\n",
       " 'Computer mouse': 'None',\n",
       " 'Computer monitor': 'None',\n",
       " 'Power plugs and sockets': 'None',\n",
       " 'Light switch': 'None',\n",
       " 'Television': 'None',\n",
       " 'Telephone': ['Mobile phone', 'Corded phone'],\n",
       " 'Tablet computer': 'None',\n",
       " 'Microphone': 'None',\n",
       " 'Ipod': 'None',\n",
       " 'Remote control': 'None',\n",
       " 'Drink': ['Beer', 'Cocktail', 'Coffee', 'Juice', 'Tea', 'Wine'],\n",
       " 'Bicycle wheel': 'None',\n",
       " 'Door handle': 'None',\n",
       " 'Door': ['Door handle'],\n",
       " 'Window': 'None',\n",
       " 'Stairs': 'None',\n",
       " 'Porch': 'None',\n",
       " 'Human eye': 'None',\n",
       " 'Skull': 'None',\n",
       " 'Human head': 'None',\n",
       " 'Human face': 'None',\n",
       " 'Human mouth': 'None',\n",
       " 'Human ear': 'None',\n",
       " 'Human nose': 'None',\n",
       " 'Human hair': 'None',\n",
       " 'Human hand': 'None',\n",
       " 'Human foot': 'None',\n",
       " 'Human arm': 'None',\n",
       " 'Human leg': 'None',\n",
       " 'Human beard': 'None',\n",
       " 'Human body': ['Human eye',\n",
       "  'Skull',\n",
       "  'Human head',\n",
       "  'Human face',\n",
       "  'Human mouth',\n",
       "  'Human ear',\n",
       "  'Human nose',\n",
       "  'Human hair',\n",
       "  'Human hand',\n",
       "  'Human foot',\n",
       "  'Human arm',\n",
       "  'Human leg',\n",
       "  'Human beard'],\n",
       " 'Auto part': ['Vehicle registration plate', 'Wheel', 'Seat belt', 'Tire'],\n",
       " 'Coconut': 'None'}"
      ]
     },
     "execution_count": 97,
     "metadata": {},
     "output_type": "execute_result"
    }
   ],
   "source": [
    "dic"
   ]
  },
  {
   "cell_type": "code",
   "execution_count": 7,
   "metadata": {
    "scrolled": false
   },
   "outputs": [
    {
     "data": {
      "text/plain": [
       "/m/0bl9f    90\n",
       "Name: LabelName, dtype: int64"
      ]
     },
     "execution_count": 7,
     "metadata": {},
     "output_type": "execute_result"
    }
   ],
   "source": [
    "df['LabelName'].value_counts()"
   ]
  },
  {
   "cell_type": "code",
   "execution_count": 42,
   "metadata": {},
   "outputs": [
    {
     "data": {
      "text/html": [
       "<div>\n",
       "<style scoped>\n",
       "    .dataframe tbody tr th:only-of-type {\n",
       "        vertical-align: middle;\n",
       "    }\n",
       "\n",
       "    .dataframe tbody tr th {\n",
       "        vertical-align: top;\n",
       "    }\n",
       "\n",
       "    .dataframe thead th {\n",
       "        text-align: right;\n",
       "    }\n",
       "</style>\n",
       "<table border=\"1\" class=\"dataframe\">\n",
       "  <thead>\n",
       "    <tr style=\"text-align: right;\">\n",
       "      <th></th>\n",
       "      <th>LabelName</th>\n",
       "      <th>DisplayName</th>\n",
       "    </tr>\n",
       "  </thead>\n",
       "  <tbody>\n",
       "    <tr>\n",
       "      <th>207</th>\n",
       "      <td>/m/0138tl</td>\n",
       "      <td>Toy</td>\n",
       "    </tr>\n",
       "  </tbody>\n",
       "</table>\n",
       "</div>"
      ],
      "text/plain": [
       "     LabelName DisplayName\n",
       "207  /m/0138tl         Toy"
      ]
     },
     "execution_count": 42,
     "metadata": {},
     "output_type": "execute_result"
    }
   ],
   "source": [
    "df1[df1['LabelName']=='/m/0138tl']"
   ]
  },
  {
   "cell_type": "code",
   "execution_count": 33,
   "metadata": {},
   "outputs": [
    {
     "name": "stdout",
     "output_type": "stream",
     "text": [
      "/m/0138tl\n"
     ]
    }
   ],
   "source": [
    "df['Subcategory']"
   ]
  },
  {
   "cell_type": "code",
   "execution_count": 27,
   "metadata": {},
   "outputs": [
    {
     "name": "stdout",
     "output_type": "stream",
     "text": [
      "/m/0138tl\n",
      "[{'LabelName': '/m/0167gd'}, {'LabelName': '/m/01j51'}, {'LabelName': '/m/029b3'}, {'LabelName': '/m/02wmf'}, {'LabelName': '/m/02zt3'}, {'LabelName': '/m/0kmg4'}]\n"
     ]
    }
   ],
   "source": [
    "for i in df['Subcategory'][3]:\n",
    "    df['Subcategory'][3][i]==df1['Labelname']"
   ]
  },
  {
   "cell_type": "code",
   "execution_count": null,
   "metadata": {},
   "outputs": [],
   "source": []
  },
  {
   "cell_type": "code",
   "execution_count": null,
   "metadata": {},
   "outputs": [],
   "source": []
  }
 ],
 "metadata": {
  "kernelspec": {
   "display_name": "Python 3",
   "language": "python",
   "name": "python3"
  },
  "language_info": {
   "codemirror_mode": {
    "name": "ipython",
    "version": 3
   },
   "file_extension": ".py",
   "mimetype": "text/x-python",
   "name": "python",
   "nbconvert_exporter": "python",
   "pygments_lexer": "ipython3",
   "version": "3.6.9"
  }
 },
 "nbformat": 4,
 "nbformat_minor": 4
}
